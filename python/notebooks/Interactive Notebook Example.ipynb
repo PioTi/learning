{
 "cells": [
  {
   "cell_type": "code",
   "execution_count": 8,
   "metadata": {
    "collapsed": false
   },
   "outputs": [
    {
     "name": "stdout",
     "output_type": "stream",
     "text": [
      "5\n"
     ]
    },
    {
     "data": {
      "text/plain": [
       "<function __main__.f>"
      ]
     },
     "execution_count": 8,
     "metadata": {},
     "output_type": "execute_result"
    }
   ],
   "source": [
    "# https://ipywidgets.readthedocs.org/en/latest/\n",
    "\n",
    "# Interact slider\n",
    "from ipywidgets import interact\n",
    "\n",
    "def f(x):\n",
    "    print(x)\n",
    "    \n",
    "interact(f, x=5)\n",
    "    "
   ]
  },
  {
   "cell_type": "code",
   "execution_count": 9,
   "metadata": {
    "collapsed": false
   },
   "outputs": [
    {
     "name": "stdout",
     "output_type": "stream",
     "text": [
      "Button clicked.\n"
     ]
    }
   ],
   "source": [
    "# Button widget\n",
    "import ipywidgets as widgets\n",
    "from IPython.display import display\n",
    "button = widgets.Button(description=\"Click Me!\")\n",
    "display(button)\n",
    "\n",
    "def on_button_clicked(b):\n",
    "    print(\"Button clicked.\")\n",
    "\n",
    "button.on_click(on_button_clicked)"
   ]
  },
  {
   "cell_type": "code",
   "execution_count": 11,
   "metadata": {
    "collapsed": false
   },
   "outputs": [],
   "source": [
    "# Text widget\n",
    "text = widgets.Text()\n",
    "display(text)\n",
    "\n",
    "def handle_submit(sender):\n",
    "    print(text.value)\n",
    "\n",
    "text.on_submit(handle_submit)"
   ]
  },
  {
   "cell_type": "code",
   "execution_count": null,
   "metadata": {
    "collapsed": true
   },
   "outputs": [],
   "source": []
  }
 ],
 "metadata": {
  "kernelspec": {
   "display_name": "Python 3",
   "language": "python",
   "name": "python3"
  },
  "language_info": {
   "codemirror_mode": {
    "name": "ipython",
    "version": 3
   },
   "file_extension": ".py",
   "mimetype": "text/x-python",
   "name": "python",
   "nbconvert_exporter": "python",
   "pygments_lexer": "ipython3",
   "version": "3.4.3"
  },
  "widgets": {
   "state": {
    "1691a4dd97444e979ee356df6de950e2": {
     "views": []
    },
    "1d562c66f8434b0ebfa0570407b9a5fe": {
     "views": []
    },
    "229d8564007b469db9e930ab7abc5f9c": {
     "views": []
    },
    "293c0294b1bb48dc8d9e0fd5478d23ab": {
     "views": []
    },
    "3878273b52064b8eb0de77360813b10e": {
     "views": []
    },
    "415c7399da394544b603b3dcc7292566": {
     "views": []
    },
    "5048a2626d41475ba30957a3e9febffa": {
     "views": [
      {
       "cell": {
        "cell_type": "code",
        "execution_count": 9,
        "metadata": {
         "collapsed": false,
         "trusted": true
        },
        "outputs": [
         {
          "name": "stdout",
          "output_type": "stream",
          "text": "Button clicked.\n"
         }
        ],
        "source": "# Button widget\nimport ipywidgets as widgets\nfrom IPython.display import display\nbutton = widgets.Button(description=\"Click Me!\")\ndisplay(button)\n\ndef on_button_clicked(b):\n    print(\"Button clicked.\")\n\nbutton.on_click(on_button_clicked)"
       },
       "cell_index": 1,
       "root": true
      }
     ]
    },
    "52ba11e275f240a3b4ca10c6b593c32e": {
     "views": []
    },
    "5f5c097cd63c45d4b5bb0ea50a537727": {
     "views": []
    },
    "7293556db96e49ceaf1b7736c48223b6": {
     "views": []
    },
    "88b714b5894641c293c2618b092650d6": {
     "views": []
    },
    "8b77e2c890b841939556d1e9eafd5491": {
     "views": [
      {
       "cell": {
        "cell_type": "code",
        "execution_count": 8,
        "metadata": {
         "collapsed": false,
         "trusted": true
        },
        "outputs": [
         {
          "name": "stdout",
          "output_type": "stream",
          "text": "5\n"
         },
         {
          "data": {
           "text/plain": "<function __main__.f>"
          },
          "execution_count": 8,
          "metadata": {},
          "output_type": "execute_result"
         }
        ],
        "source": "# https://ipywidgets.readthedocs.org/en/latest/\n\n# Interact slider\nfrom ipywidgets import interact\n\ndef f(x):\n    print(x)\n    \ninteract(f, x=5)\n    "
       },
       "cell_index": 0,
       "root": true
      }
     ]
    },
    "9002c4f2b1a44fc4bac519c66fc1b3bd": {
     "views": []
    },
    "95b2f4cbee174f14894c31cc7c2d2b7e": {
     "views": []
    },
    "9828db3e6fb74f7284d81d98c1395b5c": {
     "views": []
    },
    "9af3504c1124465b9f88552c8553a050": {
     "views": []
    },
    "a03918eec31141e3b7564bfff310e34f": {
     "views": []
    },
    "b40d58ed462f41f783f00482e71e56fa": {
     "views": []
    },
    "b94472535a7d41eb9ca575b890b6e8a1": {
     "views": []
    },
    "bd5015e123cb4fd2895dc31bc5b5d5c4": {
     "views": []
    },
    "c65493eeb4c441f79b57a24bb4c4d5d2": {
     "views": [
      {
       "cell": {
        "cell_type": "code",
        "execution_count": 11,
        "metadata": {
         "collapsed": false,
         "trusted": true
        },
        "outputs": [],
        "source": "# Text widget\ntext = widgets.Text()\ndisplay(text)\n\ndef handle_submit(sender):\n    print(text.value)\n\ntext.on_submit(handle_submit)"
       },
       "cell_index": 2,
       "root": true
      }
     ]
    },
    "cded68882fce4707b43d438946546139": {
     "views": []
    },
    "d337c0d3f6f54f8ea8333afc97986658": {
     "views": []
    },
    "d4211e7e914448ab89b048b50337a659": {
     "views": []
    },
    "f7bcd21f385c4c27a2dced0e059e36ad": {
     "views": []
    },
    "f7be69e931d8471d8e5acb6d67d212ad": {
     "views": []
    }
   },
   "version": "1.0.0"
  }
 },
 "nbformat": 4,
 "nbformat_minor": 0
}
